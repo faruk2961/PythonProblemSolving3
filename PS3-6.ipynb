{
 "cells": [
  {
   "cell_type": "markdown",
   "metadata": {},
   "source": [
    "#Question 6\n",
    "Create a line plot showing the number of marriages and divorces per capita in the\n",
    "U.S. between 1867 and 2014. Label both lines and show the legend.\n",
    "Don't forget to label your axes!"
   ]
  },
  {
   "cell_type": "code",
   "execution_count": 8,
   "metadata": {
    "scrolled": true
   },
   "outputs": [
    {
     "data": {
      "text/html": [
       "<iframe\n",
       "    scrolling=\"no\"\n",
       "    width=\"100%\"\n",
       "    height=\"545px\"\n",
       "    src=\"iframe_figures/figure_32.html\"\n",
       "    frameborder=\"0\"\n",
       "    allowfullscreen\n",
       "></iframe>\n"
      ]
     },
     "metadata": {},
     "output_type": "display_data"
    }
   ],
   "source": [
    "# Imported /Users/farukfurkankoc/Desktop/us-marriages-divorces-1867-2014.csv\n",
    "import pandas as pd\n",
    "us_marriages_divorces_1867_2014_csv = pd.read_csv(r'/Users/farukfurkankoc/Desktop/us-marriages-divorces-1867-2014.csv')\n",
    "# Import plotly and create a figure\n",
    "import plotly.graph_objects as go\n",
    "fig = go.Figure()\n",
    "\n",
    "\n",
    "\n",
    "# Add the scatter traces to the figure\n",
    "for column_header in ['Marriages_per_1000', 'Divorces_per_1000']:\n",
    "    fig.add_trace(go.Scatter(\n",
    "        x=us_marriages_divorces_1867_2014_csv['Year'],\n",
    "        y=us_marriages_divorces_1867_2014_csv[column_header],\n",
    "        mode='lines',\n",
    "        name=str(column_header)\n",
    "    ))\n",
    "\n",
    "# Update the layout\n",
    "fig.update_layout(\n",
    "    xaxis_title=\"Year\",\n",
    "    yaxis_title=\"\",\n",
    "    title=\"Marriages and Divorces Per Capita in the U.S. between 1867 and 2014\",\n",
    ")\n",
    "fig.show(renderer=\"iframe\")\n",
    "\n"
   ]
  },
  {
   "cell_type": "code",
   "execution_count": null,
   "metadata": {},
   "outputs": [],
   "source": []
  },
  {
   "cell_type": "code",
   "execution_count": null,
   "metadata": {
    "scrolled": false
   },
   "outputs": [],
   "source": []
  },
  {
   "cell_type": "code",
   "execution_count": null,
   "metadata": {},
   "outputs": [],
   "source": []
  }
 ],
 "metadata": {
  "kernelspec": {
   "display_name": "Python 3",
   "language": "python",
   "name": "python3"
  },
  "language_info": {
   "codemirror_mode": {
    "name": "ipython",
    "version": 3
   },
   "file_extension": ".py",
   "mimetype": "text/x-python",
   "name": "python",
   "nbconvert_exporter": "python",
   "pygments_lexer": "ipython3",
   "version": "3.7.4"
  }
 },
 "nbformat": 4,
 "nbformat_minor": 2
}
