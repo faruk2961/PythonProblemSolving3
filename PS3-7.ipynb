{
 "cells": [
  {
   "cell_type": "markdown",
   "metadata": {},
   "source": [
    "#Question 7\n",
    "Create a vertical bar chart comparing the number of marriages and divorces per\n",
    "capita in the U.S. between 1900, 1950, and 2000.\n",
    "Don't forget to label your axes!"
   ]
  },
  {
   "cell_type": "code",
   "execution_count": 10,
   "metadata": {},
   "outputs": [
    {
     "data": {
      "text/html": [
       "<iframe\n",
       "    scrolling=\"no\"\n",
       "    width=\"100%\"\n",
       "    height=\"545px\"\n",
       "    src=\"iframe_figures/figure_2.html\"\n",
       "    frameborder=\"0\"\n",
       "    allowfullscreen\n",
       "></iframe>\n"
      ]
     },
     "metadata": {},
     "output_type": "display_data"
    }
   ],
   "source": [
    "import pandas as pd\n",
    "us_marriages_divorces_1867_2014_csv = pd.read_csv(r'/Users/farukfurkankoc/Desktop/us-marriages-divorces-1867-2014.csv')\n",
    "# Filtered Year in us_marriages_divorces_1867_2014_csv\n",
    "us_marriages_divorces_1867_2014_csv = us_marriages_divorces_1867_2014_csv[~us_marriages_divorces_1867_2014_csv['Year'].isin([1867, 1868, 1869, 1870, 1871, 1872, 1873, 1874, 1875, 1876, 1877, 1878, 1879, 1880, 1881, 1882, 1883, 1884, 1885, 1887, 1886, 1888, 1889, 1890, 1891, 1892, 1893, 1894, 1895, 1896, 1897, 1898, 1899, 1901, 1902, 1903, 1904, 1905, 1906, 1907, 1908, 1909, 1910, 1911, 1912, 1913, 1914, 1916, 1915, 1917, 1918, 1919, 1920, 1921, 1922, 1923, 1925, 1924, 1926, 1927, 1928, 1929, 1930, 1931, 1932, 1934, 1933, 1935, 1936, 1937, 1938, 1939, 1940, 1941, 1942, 1943, 1944, 1945, 1946, 1947, 1948, 1949, 1951, 1952, 1953, 1954, 1955, 1956, 1957, 1958, 1959, 1960, 1961, 1962, 1963, 1964, 1965, 1966, 1968, 1967, 1969, 1970, 1971, 1972, 1973, 1974, 1975, 1976, 1977, 1978, 1979, 1980, 1981, 1982, 1983, 1984, 1985, 1986, 1988, 1987, 1989, 1990, 1991, 1992, 1993, 1995, 1994, 1996, 1997, 1998, 1999, 2001, 2002, 2004, 2003, 2005, 2006, 2008, 2007, 2009, 2010, 2011])]\n",
    "\n",
    "# Import plotly and create a figure\n",
    "import plotly.graph_objects as go\n",
    "fig = go.Figure()\n",
    "\n",
    "\n",
    "\n",
    "# Add the bar chart traces to the graph\n",
    "for column_header in ['Marriages_per_1000', 'Divorces_per_1000']:\n",
    "    fig.add_trace(\n",
    "        go.Bar( \n",
    "            x=us_marriages_divorces_1867_2014_csv['Year'],\n",
    "            y=us_marriages_divorces_1867_2014_csv[column_header],\n",
    "            name=str(column_header)\n",
    "        )\n",
    "    )\n",
    "\n",
    "# Update the title and stacking mode of the graph\n",
    "# See Plotly documentation for customizations: https://plotly.com/python/reference/bar/\n",
    "fig.update_layout(\n",
    "    xaxis_title=\"Year\",\n",
    "    yaxis_title=\"\",\n",
    "    title=\"Marriages and Divorces Per Capita in the U.S. Between 1900, 1950, and 2000\",\n",
    "    barmode='group',\n",
    ")\n",
    "fig.show(renderer=\"iframe\")\n",
    "\n",
    "\n",
    "\n",
    "\n",
    "\n"
   ]
  },
  {
   "cell_type": "code",
   "execution_count": null,
   "metadata": {},
   "outputs": [],
   "source": []
  }
 ],
 "metadata": {
  "kernelspec": {
   "display_name": "Python 3",
   "language": "python",
   "name": "python3"
  },
  "language_info": {
   "codemirror_mode": {
    "name": "ipython",
    "version": 3
   },
   "file_extension": ".py",
   "mimetype": "text/x-python",
   "name": "python",
   "nbconvert_exporter": "python",
   "pygments_lexer": "ipython3",
   "version": "3.7.4"
  }
 },
 "nbformat": 4,
 "nbformat_minor": 2
}
