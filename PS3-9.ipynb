{
 "cells": [
  {
   "cell_type": "markdown",
   "metadata": {},
   "source": [
    "#Question 9\n",
    "Create a pie chart showing the fraction of all Roman Emperors that were\n",
    "assassinated.\n",
    "Make sure that the pie chart is an even circle, labels the categories, and shows the\n",
    "percentage breakdown of the categories."
   ]
  },
  {
   "cell_type": "code",
   "execution_count": 14,
   "metadata": {
    "scrolled": true
   },
   "outputs": [
    {
     "data": {
      "text/html": [
       "<div>\n",
       "<style scoped>\n",
       "    .dataframe tbody tr th:only-of-type {\n",
       "        vertical-align: middle;\n",
       "    }\n",
       "\n",
       "    .dataframe tbody tr th {\n",
       "        vertical-align: top;\n",
       "    }\n",
       "\n",
       "    .dataframe thead th {\n",
       "        text-align: right;\n",
       "    }\n",
       "</style>\n",
       "<table border=\"1\" class=\"dataframe\">\n",
       "  <thead>\n",
       "    <tr style=\"text-align: right;\">\n",
       "      <th></th>\n",
       "      <th>Emperor</th>\n",
       "      <th>Length_of_Reign</th>\n",
       "      <th>Cause_of_Death</th>\n",
       "    </tr>\n",
       "  </thead>\n",
       "  <tbody>\n",
       "    <tr>\n",
       "      <td>0</td>\n",
       "      <td>Augustus</td>\n",
       "      <td>40.58</td>\n",
       "      <td>Possibly assassinated</td>\n",
       "    </tr>\n",
       "    <tr>\n",
       "      <td>1</td>\n",
       "      <td>Tiberius</td>\n",
       "      <td>22.50</td>\n",
       "      <td>Possibly assassinated</td>\n",
       "    </tr>\n",
       "    <tr>\n",
       "      <td>2</td>\n",
       "      <td>Caligula</td>\n",
       "      <td>4.83</td>\n",
       "      <td>Assassinated</td>\n",
       "    </tr>\n",
       "    <tr>\n",
       "      <td>3</td>\n",
       "      <td>Claudius</td>\n",
       "      <td>13.75</td>\n",
       "      <td>Possibly assassinated</td>\n",
       "    </tr>\n",
       "    <tr>\n",
       "      <td>4</td>\n",
       "      <td>Nero</td>\n",
       "      <td>13.67</td>\n",
       "      <td>Suicide</td>\n",
       "    </tr>\n",
       "  </tbody>\n",
       "</table>\n",
       "</div>"
      ],
      "text/plain": [
       "    Emperor  Length_of_Reign         Cause_of_Death\n",
       "0  Augustus            40.58  Possibly assassinated\n",
       "1  Tiberius            22.50  Possibly assassinated\n",
       "2  Caligula             4.83           Assassinated\n",
       "3  Claudius            13.75  Possibly assassinated\n",
       "4      Nero            13.67                Suicide"
      ]
     },
     "execution_count": 14,
     "metadata": {},
     "output_type": "execute_result"
    }
   ],
   "source": [
    "from matplotlib import pyplot as plt\n",
    "import pandas as pd\n",
    "\n",
    "data = pd.read_csv('roman-emperor-reigns.csv')\n",
    "assassinated_emperors = data[\n",
    "    data['Cause_of_Death'].apply(lambda x: 'assassinated' in x.lower())]\n",
    "\n",
    "number_assassinated = len(assassinated_emperors)\n",
    "other_deaths = len(data) - number_assassinated\n",
    "data.head()"
   ]
  },
  {
   "cell_type": "code",
   "execution_count": 18,
   "metadata": {},
   "outputs": [
    {
     "data": {
      "image/png": "[encoded data removed]",
      "text/plain": [
       "<Figure size 432x288 with 1 Axes>"
      ]
     },
     "metadata": {},
     "output_type": "display_data"
    }
   ],
   "source": [
    "# Data to plot\n",
    "labels = 'number_assassinated', 'other_deaths'\n",
    "sizes = [215, 130]\n",
    "colors = ['gold', 'yellowgreen']\n",
    "explode = (0.1, 0)  # explode 1st slice\n",
    "\n",
    "# Plot\n",
    "plt.pie(sizes, explode=explode, labels=labels, colors=colors,\n",
    "autopct='%1.1f%%', shadow=True, startangle=140)\n",
    "\n",
    "plt.axis('equal')\n",
    "plt.show()\n"
   ]
  },
  {
   "cell_type": "code",
   "execution_count": null,
   "metadata": {},
   "outputs": [],
   "source": []
  }
 ],
 "metadata": {
  "kernelspec": {
   "display_name": "Python 3",
   "language": "python",
   "name": "python3"
  },
  "language_info": {
   "codemirror_mode": {
    "name": "ipython",
    "version": 3
   },
   "file_extension": ".py",
   "mimetype": "text/x-python",
   "name": "python",
   "nbconvert_exporter": "python",
   "pygments_lexer": "ipython3",
   "version": "3.7.4"
  }
 },
 "nbformat": 4,
 "nbformat_minor": 2
}
